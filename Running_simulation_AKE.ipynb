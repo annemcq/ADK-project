{
 "cells": [
  {
   "cell_type": "markdown",
   "metadata": {},
   "source": [
    "# Running simulation AKE"
   ]
  },
  {
   "cell_type": "code",
   "execution_count": 1,
   "metadata": {
    "ExecuteTime": {
     "end_time": "2023-01-16T19:35:46.223242Z",
     "start_time": "2023-01-16T19:35:44.732817Z"
    }
   },
   "outputs": [],
   "source": [
    "import numpy as np\n",
    "import matplotlib.pyplot as plt\n",
    "\n",
    "import mdtraj as md\n",
    "from openmm.app.topology import Topology\n",
    "from openmm.app.simulation import Simulation\n",
    "from openmm.app.dcdreporter import DCDReporter\n",
    "from openmm.app.statedatareporter import StateDataReporter\n",
    "import openmm.unit as u\n",
    "import openmm as mm\n",
    "import openmm.openmm as openmm\n",
    "import pyemma.coordinates as coor\n",
    "import pyemma"
   ]
  },
  {
   "cell_type": "code",
   "execution_count": 2,
   "metadata": {},
   "outputs": [],
   "source": [
    "# Force field parametrization constants\n",
    "ATOM_MASS = 1.0         # a.u.\n",
    "BOND_STRENGTH = 20000.0 # kJ/(nm**2 mol)\n",
    "ANGLE_STRENGTH = 40.0   # kJ/(mol rad**2)\n",
    "NONNATIVE_SIGMA = 0.4   # nm\n"
   ]
  },
  {
   "cell_type": "markdown",
   "metadata": {},
   "source": [
    "# 1) Topology and contact map"
   ]
  },
  {
   "cell_type": "markdown",
   "metadata": {},
   "source": [
    "## 1.1. Contact map for 4AKE and 1AKE"
   ]
  },
  {
   "cell_type": "code",
   "execution_count": 3,
   "metadata": {
    "ExecuteTime": {
     "end_time": "2023-01-16T20:29:22.435481Z",
     "start_time": "2023-01-16T20:29:22.428323Z"
    }
   },
   "outputs": [
    {
     "name": "stdout",
     "output_type": "stream",
     "text": [
      "(635, 2)\n",
      "(598, 2)\n"
     ]
    }
   ],
   "source": [
    "# We download the files 1AKE and 4AKE with only the first chain \n",
    "\n",
    "pdb_file_1AKE= '1ake_input_smog.pdb'  \n",
    "pdb_file_4AKE = '4ake_input_smog.pdb'   \n",
    "\n",
    "# We download the files\n",
    "AKE_1_structure = md.load(pdb_file_1AKE) # Closed form\n",
    "AKE_4_structure = md.load(pdb_file_4AKE) # Open form\n",
    "\n",
    "# We download the native contacts file\n",
    "native_contacts_1AKE_file = '1ake_contact_map.txt' \n",
    "native_contacts_4AKE_file = '4ake_contact_map.txt' \n",
    "\n",
    "native_contacts_1AKE  = np.loadtxt(native_contacts_1AKE_file,dtype=int)\n",
    "native_contacts_4AKE  = np.loadtxt(native_contacts_4AKE_file,dtype=int)\n",
    "\n",
    "# We select only the atom indexes\n",
    "selected_columns_1AKE = native_contacts_1AKE[:, [1, 3]] \n",
    "selected_columns_4AKE = native_contacts_4AKE[:, [1, 3]]\n",
    "print(selected_columns_1AKE.shape)\n",
    "print(selected_columns_4AKE.shape)\n"
   ]
  },
  {
   "cell_type": "markdown",
   "metadata": {},
   "source": [
    "All-Atom Calpha:\n",
    "\n",
    "Considers a contact between two residues formed if any atom-atom contact is formed between the residues. \n",
    "Outputs the residue level contact map with the atom numbering of the Calpha atoms.\n",
    "\n",
    "Format: Chain i Calpha_Atom k Chain j Calpha_Atom l\n",
    "\n",
    "In our case: Chain i = Chain j = 1\n",
    "\n",
    "Structure:\n",
    "1 CA_k 1 CA_l"
   ]
  },
  {
   "cell_type": "markdown",
   "metadata": {},
   "source": [
    "## 1.2. Create topology for 4AKE and 1AKE"
   ]
  },
  {
   "cell_type": "code",
   "execution_count": 4,
   "metadata": {},
   "outputs": [
    {
     "name": "stdout",
     "output_type": "stream",
     "text": [
      "[MET1, ARG2, ILE3, ILE4, LEU5, LEU6, GLY7, ALA8, PRO9, GLY10, ALA11, GLY12, LYS13, GLY14, THR15, GLN16, ALA17, GLN18, PHE19, ILE20, MET21, GLU22, LYS23, TYR24, GLY25, ILE26, PRO27, GLN28, ILE29, SER30, THR31, GLY32, ASP33, MET34, LEU35, ARG36, ALA37, ALA38, VAL39, LYS40, SER41, GLY42, SER43, GLU44, LEU45, GLY46, LYS47, GLN48, ALA49, LYS50, ASP51, ILE52, MET53, ASP54, ALA55, GLY56, LYS57, LEU58, VAL59, THR60, ASP61, GLU62, LEU63, VAL64, ILE65, ALA66, LEU67, VAL68, LYS69, GLU70, ARG71, ILE72, ALA73, GLN74, GLU75, ASP76, CYS77, ARG78, ASN79, GLY80, PHE81, LEU82, LEU83, ASP84, GLY85, PHE86, PRO87, ARG88, THR89, ILE90, PRO91, GLN92, ALA93, ASP94, ALA95, MET96, LYS97, GLU98, ALA99, GLY100, ILE101, ASN102, VAL103, ASP104, TYR105, VAL106, LEU107, GLU108, PHE109, ASP110, VAL111, PRO112, ASP113, GLU114, LEU115, ILE116, VAL117, ASP118, ARG119, ILE120, VAL121, GLY122, ARG123, ARG124, VAL125, HIS126, ALA127, PRO128, SER129, GLY130, ARG131, VAL132, TYR133, HIS134, VAL135, LYS136, PHE137, ASN138, PRO139, PRO140, LYS141, VAL142, GLU143, GLY144, LYS145, ASP146, ASP147, VAL148, THR149, GLY150, GLU151, GLU152, LEU153, THR154, THR155, ARG156, LYS157, ASP158, ASP159, GLN160, GLU161, GLU162, THR163, VAL164, ARG165, LYS166, ARG167, LEU168, VAL169, GLU170, TYR171, HIS172, GLN173, MET174, THR175, ALA176, PRO177, LEU178, ILE179, GLY180, TYR181, TYR182, SER183, LYS184, GLU185, ALA186, GLU187, ALA188, GLY189, ASN190, THR191, LYS192, TYR193, ALA194, LYS195, VAL196, ASP197, GLY198, THR199, LYS200, PRO201, VAL202, ALA203, GLU204, VAL205, ARG206, ALA207, ASP208, LEU209, GLU210, LYS211, ILE212, LEU213, GLY214]\n",
      "Topology 1AKE:  <Topology; 1 chains, 214 residues, 214 atoms, 0 bonds>\n",
      "Topology 4AKE:  <Topology; 1 chains, 214 residues, 214 atoms, 0 bonds>\n",
      "<Topology; 1 chains, 214 residues, 214 atoms, 213 bonds>\n",
      "<Topology; 1 chains, 214 residues, 214 atoms, 213 bonds>\n"
     ]
    }
   ],
   "source": [
    "# We create files with only Calpha\n",
    "ca_atoms_ndx_AKE1 = AKE_1_structure.top.select('name CA')\n",
    "\n",
    "ca_structure_AKE1 = AKE_1_structure.atom_slice(ca_atoms_ndx_AKE1)\n",
    "ca_structure_AKE1.save('pdb_file_1AKE_Calpha.pdb')\n",
    "print(list(ca_structure_AKE1.top.residues))\n",
    "\n",
    "ca_atoms_ndx_AKE4 = AKE_4_structure.top.select('name CA')\n",
    "ca_structure_AKE4 = AKE_4_structure.atom_slice(ca_atoms_ndx_AKE4)\n",
    "ca_structure_AKE4.save('pdb_file_4AKE_Calpha.pdb')\n",
    "\n",
    "\n",
    "# We create a topology and we visualize the structure of the protein in both states\n",
    "\n",
    "topology_AKE1= ca_structure_AKE1.top.to_openmm()\n",
    "n_atoms_AKE1 = topology_AKE1.getNumAtoms()\n",
    "print(\"Topology 1AKE: \", topology_AKE1)\n",
    "\n",
    "topology_AKE4= ca_structure_AKE4.top.to_openmm()\n",
    "n_atoms_AKE4 = topology_AKE4.getNumAtoms()\n",
    "print(\"Topology 4AKE: \", topology_AKE4)\n",
    "\n",
    "# We add the bonds\n",
    "atoms_AKE4 = list(topology_AKE4.atoms())\n",
    "for ndx in range(n_atoms_AKE4-1):\n",
    "        topology_AKE4.addBond(atoms_AKE4[ndx], atoms_AKE4[ndx+1])\n",
    "print(topology_AKE4)\n",
    "\n",
    "atoms_AKE1 = list(topology_AKE1.atoms())\n",
    "for ndx in range(n_atoms_AKE1-1):\n",
    "        topology_AKE1.addBond(atoms_AKE1[ndx], atoms_AKE1[ndx+1])\n",
    "print(topology_AKE1)\n",
    "\n",
    "n_Calpha=n_atoms_AKE4 # n_atoms4AKE=n_atoms1AKE as expected"
   ]
  },
  {
   "cell_type": "markdown",
   "metadata": {},
   "source": [
    "## 1.3. Microscopic Mixing for 1AKE and 4AKE"
   ]
  },
  {
   "cell_type": "code",
   "execution_count": 5,
   "metadata": {},
   "outputs": [],
   "source": [
    "class MicroscopicMixing:\n",
    "\n",
    "    def compare_matrices(self, matrix_a, matrix_b):\n",
    "         # Concatenate matrices vertically, excluding duplicates from matrix_b\n",
    "        matrix_c = np.vstack([line_a for line_a in matrix_a] + [line_b for line_b in matrix_b if not any(np.array_equal(line_b, line_a) for line_a in matrix_a)])\n",
    "        return matrix_c # formed by stacking unique rows from both input matrices vertically.\n",
    "\n",
    "    def custom_sort(self, matrix):\n",
    "        def sort_key(line):\n",
    "            return (line[0], line[1])  # Sort by the first element, then by the second element\n",
    "        sorted_matrix = sorted(matrix, key=sort_key)\n",
    "        return sorted_matrix\n",
    "\n",
    "    def find_unique_numbers(self, matrix):\n",
    "        # Flatten the matrix and extract unique numbers, then sort them\n",
    "        flat_matrix = [element for row in matrix for element in row]\n",
    "        unique_numbers = list(set(flat_matrix))\n",
    "        sorted_unique_numbers = sorted(unique_numbers)\n",
    "        return sorted_unique_numbers\n",
    "\n",
    "    def create_mapping(self, vector_a, vector_b):\n",
    "        # Create a mapping dictionary between elements of two vectors\n",
    "        mapping = {}\n",
    "        for element_a, element_b in zip(vector_a, vector_b):\n",
    "            mapping[element_a] = element_b\n",
    "        return mapping\n",
    "\n",
    "    def apply_mapping(self, matrix, mapping):\n",
    "         # Apply the mapping dictionary to each element in the matrix\n",
    "        num_rows = len(matrix)\n",
    "        num_cols = len(matrix[0])\n",
    "        result_matrix = [[0] * num_cols for _ in range(num_rows)]\n",
    "        for i in range(num_rows):\n",
    "            for j in range(num_cols):\n",
    "                original_element = matrix[i][j]\n",
    "                mapped_element = mapping.get(original_element, original_element)\n",
    "                result_matrix[i][j] = mapped_element\n",
    "        return result_matrix\n",
    "    \n",
    "    def extract_added_lines(self, matrix_a, matrix_b):\n",
    "        # Convert rows of matrices to frozensets for set operations\n",
    "        set_a = {tuple(row) for row in matrix_a}\n",
    "        set_b = {tuple(row) for row in matrix_b}\n",
    "\n",
    "        # Find added lines by subtracting set_a from set_b\n",
    "        added_lines_set = set_b - set_a\n",
    "\n",
    "        # Convert back to numpy array with dtype=object and reshape to have 2 columns\n",
    "        added_lines = np.array(list(added_lines_set), dtype=object).reshape(-1, 2)\n",
    "\n",
    "        # Sort the added lines first by the first column, then by the second column\n",
    "        added_lines = added_lines[np.lexsort((added_lines[:, 1], added_lines[:, 0]))]\n",
    "\n",
    "        return added_lines"
   ]
  },
  {
   "cell_type": "code",
   "execution_count": 6,
   "metadata": {},
   "outputs": [],
   "source": [
    "micro_mixing = MicroscopicMixing()\n",
    "\n",
    "# The contact maps for 4AKE and 1AKE have the original contact map indexes before extracting only the Calpha atoms. Therefore, we need to renumber all of them.\n",
    "# 4AKE:\n",
    "native_contacts_4AKE_indices = np.array(micro_mixing.find_unique_numbers(selected_columns_4AKE))\n",
    "#indices_4AKE = np.array(list(range(len(native_contacts_4AKE_indices))))\n",
    "indices_4AKE = np.array(list(range(n_Calpha)))\n",
    "mapping_4AKE = micro_mixing.create_mapping(native_contacts_4AKE_indices, indices_4AKE)\n",
    "native_contacts_4AKE_mapped = micro_mixing.apply_mapping(selected_columns_4AKE, mapping_4AKE)\n",
    "np.savetxt('native_contacts_4AKE_mapped.txt', native_contacts_4AKE_mapped, fmt='%d')\n",
    "\n",
    "# 1AKE:\n",
    "native_contacts_1AKE_indices = np.array(micro_mixing.find_unique_numbers(selected_columns_1AKE))\n",
    "indices_1AKE = np.array(list(range(n_Calpha)))\n",
    "mapping_1AKE = micro_mixing.create_mapping(native_contacts_1AKE_indices, indices_1AKE)\n",
    "native_contacts_1AKE_mapped = micro_mixing.apply_mapping(selected_columns_1AKE, mapping_1AKE)\n",
    "np.savetxt('native_contacts_1AKE_mapped.txt', native_contacts_1AKE_mapped, fmt='%d')\n",
    "\n",
    "\n",
    "# Now we do the microscopic mixing of contacts \n",
    "# Starting in 4AKE\n",
    "native_contacts_start_4AKE = micro_mixing.compare_matrices(native_contacts_4AKE_mapped, native_contacts_1AKE_mapped) #This is contacts_matrix_1 with the inclusion of contacts \n",
    "#from contacts_matrix_2 that do not overlap with those present in contacts_matrix_1\n",
    "native_contacts_start_4AKE = np.array(micro_mixing.custom_sort(native_contacts_start_4AKE)) # We need to sort the contacts in ascending order \n",
    "np.savetxt('native_contacts_start_4AKE.txt', native_contacts_start_4AKE, fmt='%d')\n",
    "\n",
    "# Starting in 1AKE\n",
    "native_contacts_start_1AKE = micro_mixing.compare_matrices(native_contacts_1AKE_mapped, native_contacts_4AKE_mapped) #This is contacts_matrix_1 with the inclusion of contacts \n",
    "#from contacts_matrix_2 that do not overlap with those present in contacts_matrix_1\n",
    "native_contacts_start_1AKE = np.array(micro_mixing.custom_sort(native_contacts_start_1AKE)) # We need to sort the contacts in ascending order \n",
    "np.savetxt('native_contacts_start_1AKE.txt', native_contacts_start_1AKE, fmt='%d')\n",
    "\n"
   ]
  },
  {
   "cell_type": "code",
   "execution_count": 7,
   "metadata": {},
   "outputs": [
    {
     "name": "stdout",
     "output_type": "stream",
     "text": [
      "diff_pairs_start_4AKE [[1 77]\n",
      " [4 86]\n",
      " [5 10]\n",
      " [6 107]\n",
      " [6 174]\n",
      " [9 122]\n",
      " [11 16]\n",
      " [12 27]\n",
      " [12 87]\n",
      " [13 27]\n",
      " [13 129]\n",
      " [14 131]\n",
      " [14 137]\n",
      " [16 25]\n",
      " [16 83]\n",
      " [17 27]\n",
      " [17 129]\n",
      " [17 130]\n",
      " [17 131]\n",
      " [19 108]\n",
      " [21 205]\n",
      " [26 78]\n",
      " [27 128]\n",
      " [27 129]\n",
      " [28 75]\n",
      " [28 85]\n",
      " [31 36]\n",
      " [31 52]\n",
      " [31 83]\n",
      " [31 84]\n",
      " [31 87]\n",
      " [32 39]\n",
      " [32 83]\n",
      " [32 126]\n",
      " [32 128]\n",
      " [32 129]\n",
      " [33 44]\n",
      " [34 44]\n",
      " [34 45]\n",
      " [34 63]\n",
      " [35 155]\n",
      " [35 156]\n",
      " [35 157]\n",
      " [37 41]\n",
      " [39 126]\n",
      " [42 47]\n",
      " [43 62]\n",
      " [45 52]\n",
      " [45 62]\n",
      " [45 66]\n",
      " [52 157]\n",
      " [52 162]\n",
      " [52 166]\n",
      " [53 156]\n",
      " [53 157]\n",
      " [53 159]\n",
      " [53 162]\n",
      " [54 161]\n",
      " [54 162]\n",
      " [54 165]\n",
      " [55 157]\n",
      " [55 162]\n",
      " [55 165]\n",
      " [55 166]\n",
      " [55 169]\n",
      " [56 169]\n",
      " [57 87]\n",
      " [57 88]\n",
      " [57 169]\n",
      " [57 173]\n",
      " [57 174]\n",
      " [58 91]\n",
      " [59 64]\n",
      " [63 68]\n",
      " [63 84]\n",
      " [68 94]\n",
      " [71 75]\n",
      " [71 82]\n",
      " [75 80]\n",
      " [82 100]\n",
      " [84 91]\n",
      " [85 94]\n",
      " [86 174]\n",
      " [87 92]\n",
      " [87 166]\n",
      " [87 170]\n",
      " [88 174]\n",
      " [89 94]\n",
      " [90 173]\n",
      " [93 98]\n",
      " [95 101]\n",
      " [107 182]\n",
      " [108 170]\n",
      " [112 170]\n",
      " [114 197]\n",
      " [118 199]\n",
      " [119 123]\n",
      " [119 159]\n",
      " [120 133]\n",
      " [120 134]\n",
      " [120 159]\n",
      " [123 133]\n",
      " [130 146]\n",
      " [136 201]\n",
      " [137 201]\n",
      " [155 166]\n",
      " [159 166]\n",
      " [169 174]\n",
      " [170 175]\n",
      " [170 176]\n",
      " [177 182]\n",
      " [177 192]] 112\n",
      "diff_pairs_start_1AKE [[0 213]\n",
      " [1 78]\n",
      " [2 23]\n",
      " [3 84]\n",
      " [5 84]\n",
      " [5 85]\n",
      " [6 84]\n",
      " [7 11]\n",
      " [10 14]\n",
      " [10 109]\n",
      " [14 108]\n",
      " [14 204]\n",
      " [16 21]\n",
      " [23 78]\n",
      " [24 75]\n",
      " [24 78]\n",
      " [24 79]\n",
      " [25 75]\n",
      " [28 32]\n",
      " [30 35]\n",
      " [30 82]\n",
      " [33 63]\n",
      " [33 82]\n",
      " [34 39]\n",
      " [35 40]\n",
      " [37 48]\n",
      " [37 69]\n",
      " [39 46]\n",
      " [40 45]\n",
      " [41 45]\n",
      " [42 69]\n",
      " [43 69]\n",
      " [44 48]\n",
      " [45 69]\n",
      " [46 50]\n",
      " [46 51]\n",
      " [48 66]\n",
      " [50 56]\n",
      " [58 66]\n",
      " [60 87]\n",
      " [63 87]\n",
      " [64 95]\n",
      " [64 98]\n",
      " [64 100]\n",
      " [65 70]\n",
      " [67 80]\n",
      " [67 95]\n",
      " [72 77]\n",
      " [106 191]\n",
      " [107 171]\n",
      " [108 196]\n",
      " [110 196]\n",
      " [111 196]\n",
      " [113 164]\n",
      " [115 120]\n",
      " [116 121]\n",
      " [116 167]\n",
      " [117 164]\n",
      " [119 133]\n",
      " [120 163]\n",
      " [122 134]\n",
      " [123 139]\n",
      " [123 142]\n",
      " [123 143]\n",
      " [126 152]\n",
      " [129 155]\n",
      " [131 155]\n",
      " [131 158]\n",
      " [134 142]\n",
      " [138 142]\n",
      " [153 158]\n",
      " [159 164]\n",
      " [160 165]\n",
      " [165 170]\n",
      " [178 194]] 75\n"
     ]
    }
   ],
   "source": [
    "# We want to look at the different pairs\n",
    "\n",
    "# Starting in 4KE\n",
    "diff_pairs_start_4AKE = micro_mixing.extract_added_lines(np.array(native_contacts_4AKE_mapped), np.array(native_contacts_start_4AKE))\n",
    "# Starting in 1KE\n",
    "diff_pairs_start_1AKE = micro_mixing.extract_added_lines(np.array(native_contacts_1AKE_mapped), np.array(native_contacts_start_1AKE))\n",
    "\n",
    "print(\"diff_pairs_start_4AKE\", diff_pairs_start_4AKE, len(diff_pairs_start_4AKE))\n",
    "print(\"diff_pairs_start_1AKE\", diff_pairs_start_1AKE, len(diff_pairs_start_1AKE))"
   ]
  },
  {
   "cell_type": "markdown",
   "metadata": {},
   "source": [
    "## 2) Define the interactions"
   ]
  },
  {
   "cell_type": "code",
   "execution_count": 8,
   "metadata": {
    "ExecuteTime": {
     "end_time": "2023-01-16T20:29:24.575798Z",
     "start_time": "2023-01-16T20:29:24.558101Z"
    }
   },
   "outputs": [],
   "source": [
    "def add_nonbonded_interactions(ca_structure_init, ca_structure_end, system, native_contacts, diff_pairs):\n",
    "    \"\"\"\n",
    "    Add nonbonded interactions to OpenMM System object\n",
    "    \n",
    "    Parameters\n",
    "    ----------\n",
    "    ca_structure :  mdtraj.Trajectory object\n",
    "        Trajectory that contains native structure for the CG model.\n",
    "        If more than one frame provided, only the first frame will be used\n",
    "        and the rest will be discarded. \n",
    "    \n",
    "    native_contacts : numpy ndarray, dtype int\n",
    "        A Mx2 numpy array. Each row  represents a pair of residues that are in contact in the \n",
    "        native structure\n",
    "        \n",
    "    system : openmm.openmm.System object\n",
    "        Object to which forces should be added\n",
    "        \n",
    "    Returns\n",
    "    -------\n",
    "    system : openmm.openmm.System object\n",
    "       Modified system\n",
    "    \n",
    "    \"\"\"\n",
    "    # Add nonbonded interaction \n",
    "    n_atoms = ca_structure_init.top.n_atoms\n",
    "    nonbonded_force = mm.openmm.CustomNonbondedForce(\"(sigma/r)^12; sigma=sqrt(sigma1*sigma2)\")\n",
    "    nonbonded_force.addPerParticleParameter(\"sigma\")\n",
    "    for i in range(n_atoms):\n",
    "        nonbonded_force.addParticle([NONNATIVE_SIGMA])\n",
    "        \n",
    "    # Exclude 1-2, 1-3 and 1-4 interactions:\n",
    "    # Bond cutoff=3: atoms separated by 3 bonds or less are excluded\n",
    "    nonbonded_force.createExclusionsFromBonds(bonds=[[i, i+1] for i in range(n_atoms-1)], bondCutoff=3)\n",
    "            \n",
    "    # Add native interaction\n",
    "    native_force = mm.openmm.CustomBondForce(\"5.0*((rnot/r)^12) - 6.0*((rnot/r)^10)\")\n",
    "    native_force.addPerBondParameter(\"rnot\")\n",
    "    distances=compute_distances(ca_structure_init, ca_structure_end, native_contacts, diff_pairs)\n",
    "    #distances_MD =  md.compute_distances(ca_structure_init, native_contacts)[0]\n",
    "\n",
    "    for ndx, contact in enumerate(native_contacts):\n",
    "        # OpenMM does not work correctly with numpy objects, all scalars should be \n",
    "        # explicitly converted\n",
    "        atom_1 = int(contact[0])\n",
    "        atom_2 = int(contact[1])\n",
    "        native_force.addBond(atom_1, atom_2, [float(distances[ndx])])\n",
    "        nonbonded_force.addExclusion(atom_1, atom_2)\n",
    "        \n",
    "    # Add forces to the system\n",
    "    system.addForce(nonbonded_force)\n",
    "    system.addForce(native_force)\n",
    "    return system \n",
    "                                     \n",
    "def add_dihedral_interactions(ca_structure_init, ca_structure_end, system):\n",
    "\n",
    "    n_atoms = ca_structure_init.top.n_atoms\n",
    "\n",
    "    \"\"\"\n",
    "    Add dihedral interactions to OpenMM System object\n",
    "    \n",
    "    Parameters\n",
    "    ----------\n",
    "    ca_structure :  mdtraj.Trajectory object\n",
    "        Trajectory that contains native structure for the CG model.\n",
    "        If more than one frame provided, only the first frame will be used\n",
    "        and the rest will be discarded. \n",
    "        \n",
    "    system : openmm.openmm.System object\n",
    "        Object to which forces should be added\n",
    "        \n",
    "    Returns\n",
    "    -------\n",
    "    system : openmm.openmm.System object\n",
    "       Modified system\n",
    "\n",
    "    \"\"\"\n",
    "    # Add dihedral angle potential. \n",
    "    atom_quadruples = [[i, i+1, i+2, i+3] for i in range(n_atoms - 3)]\n",
    "    dihedrals = md.compute_dihedrals(ca_structure_init, atom_quadruples)[0] \n",
    "    dihedral_force = mm.openmm.PeriodicTorsionForce()\n",
    "    for dihedral_ndx in range(n_atoms - 3):\n",
    "        dihedral_1 = dihedrals[dihedral_ndx] + np.pi\n",
    "        dihedral_2 = 3*(dihedrals[dihedral_ndx] + np.pi)\n",
    "        dihedral_force.addTorsion(*atom_quadruples[dihedral_ndx], 1, dihedral_1, 1.0)\n",
    "        dihedral_force.addTorsion(*atom_quadruples[dihedral_ndx], 3, dihedral_2, 0.5)\n",
    "    system.addForce(dihedral_force)\n",
    "    return system\n",
    "\n",
    "\n",
    "def save_system(system, name='OpenMM_system.xml'):\n",
    "    \"\"\"\n",
    "    Save OpenMM system object to a human readable xml file\n",
    "    \n",
    "    Parameters:\n",
    "    ----------- \n",
    "    \n",
    "    name : str, optional\n",
    "        Name of the file, should end with .xml extension\n",
    "        \n",
    "    system : openmm.openmm.System object\n",
    "    \"\"\"\n",
    "    with open(name, 'w') as f:\n",
    "        system_xml = mm.XmlSerializer.serialize(system)\n",
    "        f.write(system_xml) \n",
    "    return\n",
    "\n",
    "def compute_distances(ca_structure_init, ca_structure_end, atom_pairs, diff_pairs):\n",
    "    # Extract coordinates from the trajectories\n",
    "    init_coords = ca_structure_init.xyz[0]\n",
    "    end_coords = ca_structure_end.xyz[0]\n",
    "\n",
    "    # Convert diff_pairs to a set of tuples for faster lookup\n",
    "    diff_pairs_set = set(map(tuple, diff_pairs))\n",
    "\n",
    "    # Initialize an array to store distances\n",
    "    distances = []\n",
    "\n",
    "    # Loop through atom pairs using enumerate to get both index and pair\n",
    "    for n, pair in enumerate(atom_pairs):\n",
    "        atom1, atom2 = pair\n",
    "\n",
    "        # Check if the entire pair is in diff_pairs_set\n",
    "        if (atom1, atom2) in diff_pairs_set or (atom2, atom1) in diff_pairs_set:\n",
    "            # Use coordinates from ca_structure_end\n",
    "            coord1 = end_coords[atom1, :]\n",
    "            coord2 = end_coords[atom2, :]\n",
    "        else:\n",
    "            # Use coordinates from ca_structure_init\n",
    "            coord1 = init_coords[atom1, :]\n",
    "            coord2 = init_coords[atom2, :]\n",
    "\n",
    "        # Calculate distance and store in distances array\n",
    "        distances.append(np.linalg.norm(coord1 - coord2))        \n",
    "\n",
    "    return distances"
   ]
  },
  {
   "cell_type": "code",
   "execution_count": 9,
   "metadata": {},
   "outputs": [],
   "source": [
    "distances_our_function=np.array(compute_distances(ca_structure_AKE4, ca_structure_AKE1, native_contacts_start_4AKE, diff_pairs_start_4AKE))\n",
    "distances_md_4AKE=np.array(md.compute_distances(ca_structure_AKE4, native_contacts_start_4AKE)[0])\n",
    "distances_md_1AKE=np.array(md.compute_distances(ca_structure_AKE1, native_contacts_start_4AKE)[0])\n",
    "\n",
    "np.savetxt('distances using new function.txt', distances_our_function)\n",
    "np.savetxt('distances_md_4AKE using MD old function.txt', distances_md_4AKE)\n",
    "np.savetxt('distances_md_1AKE using MD old function.txt', distances_md_1AKE)\n",
    "\n",
    "# Our file with the distances (distances_our_function) should be equal to distances_md_4AKE except for the atoms in diff_pairs_start_4AKE, for which it should be equal to distances_md_1AKE\n"
   ]
  },
  {
   "cell_type": "markdown",
   "metadata": {},
   "source": [
    "## 3) Simulation"
   ]
  },
  {
   "cell_type": "code",
   "execution_count": 10,
   "metadata": {},
   "outputs": [],
   "source": [
    "class simulation_class:\n",
    "    def __init__(self, xml_file):\n",
    "        self.xml_file = xml_file\n",
    "        self.system = None\n",
    "    \n",
    "    def create_system(self, n_atoms, ca_structure_init, ca_structure_end, native_contacts, diff_pairs):\n",
    "        # Create system\n",
    "        system = openmm.System()\n",
    "\n",
    "        # Add particles with specified mass\n",
    "        for atom_ndx in range(n_atoms):\n",
    "            system.addParticle(ATOM_MASS)\n",
    "\n",
    "        # Add center of mass motion remover\n",
    "        cmm_remover = openmm.CMMotionRemover()\n",
    "        system.addForce(cmm_remover)\n",
    "\n",
    "        # Add bonds between consecutive Ca atoms. Need to know bond length in native structures\n",
    "        atom_pairs = [[i, i + 1] for i in range(n_atoms - 1)]\n",
    "        bond_distances = md.compute_distances(ca_structure_init, atom_pairs)[0]\n",
    "        bond_force = openmm.HarmonicBondForce()\n",
    "        for bond_ndx in range(n_atoms - 1):\n",
    "            bond_force.addBond(*atom_pairs[bond_ndx], float(bond_distances[bond_ndx]), BOND_STRENGTH)\n",
    "        system.addForce(bond_force)\n",
    "\n",
    "        # Add angle potentials for each 3 consecutive Ca atoms. Need to know angles in native structures\n",
    "        atom_triples = [[i, i + 1, i + 2] for i in range(n_atoms - 2)]\n",
    "        angles = md.compute_angles(ca_structure_init, atom_triples)[0]\n",
    "        angle_force = openmm.HarmonicAngleForce()\n",
    "        for angle_ndx in range(n_atoms - 2):\n",
    "            angle_force.addAngle(*atom_triples[angle_ndx], float(angles[angle_ndx]), ANGLE_STRENGTH)\n",
    "        system.addForce(angle_force)\n",
    "\n",
    "        system = add_dihedral_interactions(ca_structure_init, ca_structure_end, system)\n",
    "        system = add_nonbonded_interactions(ca_structure_init, ca_structure_end, system, native_contacts, diff_pairs)\n",
    "        return system\n",
    "\n",
    "    def save_system(self, system):\n",
    "        with open(self.xml_file, 'w') as f:\n",
    "            f.write(openmm.XmlSerializer.serialize(system))\n",
    "\n",
    "    def load_system(self):\n",
    "        with open(self.xml_file, 'r') as f:\n",
    "            xml_content = f.read()\n",
    "            self.system = openmm.XmlSerializer.deserialize(xml_content)\n",
    "\n",
    "    def print_forces(self):\n",
    "        if self.system is not None:\n",
    "            for force in self.system.getForces():\n",
    "                print(force)\n",
    "        else:\n",
    "            print(\"System not loaded. Use load_system() first.\")\n"
   ]
  },
  {
   "cell_type": "code",
   "execution_count": 11,
   "metadata": {
    "ExecuteTime": {
     "end_time": "2023-01-16T20:29:22.229072Z",
     "start_time": "2023-01-16T20:29:22.218889Z"
    }
   },
   "outputs": [],
   "source": [
    "# CG modeling parameters\n",
    "\n",
    "TEMPERATURE = 80  # K,  modeling temperature\n",
    "LENGTH = 100000   # ps,   simulation length\n",
    "STEPSIZE = 0.002   # ps,  integration step\n",
    "\n",
    "STRIDE = 5/STEPSIZE       # steps, record coordinates every STRIDE steps\n",
    "FRICTION = 1        # 1/ps, friction coefficient for LangevinIntegrator.\n",
    "n_steps = int(LENGTH/STEPSIZE)\n"
   ]
  },
  {
   "cell_type": "code",
   "execution_count": 12,
   "metadata": {},
   "outputs": [],
   "source": [
    "# Simulation starting in 4AKE configuration\n",
    "\n",
    "xml_file = '4AKE_system.xml'\n",
    "system_4AKE_simulation = simulation_class(xml_file)\n",
    "\n",
    "# Create system\n",
    "system_4AKE = system_4AKE_simulation.create_system(n_Calpha, ca_structure_AKE4, ca_structure_AKE1, native_contacts_start_4AKE, diff_pairs_start_4AKE)\n",
    "\n",
    "# Save system\n",
    "system_4AKE_simulation.save_system(system_4AKE)\n",
    "\n"
   ]
  },
  {
   "cell_type": "code",
   "execution_count": 13,
   "metadata": {
    "ExecuteTime": {
     "end_time": "2023-01-16T20:33:23.450332Z",
     "start_time": "2023-01-16T20:29:25.567596Z"
    }
   },
   "outputs": [],
   "source": [
    "integrator = openmm.LangevinIntegrator(TEMPERATURE*u.kelvin, FRICTION/u.picosecond, STEPSIZE*u.picoseconds)\n",
    "platform = openmm.Platform.getPlatformByName(\"CUDA\")\n",
    "simulation_AKE4= Simulation(topology_AKE4, system_4AKE, integrator, platform)\n",
    "simulation_AKE4.context.setPositions(ca_structure_AKE4.xyz[0])\n",
    "simulation_AKE4.reporters.append(md.reporters.XTCReporter('traj_AKE4.xtc', STRIDE))\n",
    "#simulation_AKE4.reporters.append(mm.app.pdbreporter.PDBReporter('traj_AKE4.pdb', STRIDE))\n",
    "\n",
    "simulation_AKE4.step(n_steps)"
   ]
  },
  {
   "cell_type": "code",
   "execution_count": 14,
   "metadata": {
    "ExecuteTime": {
     "end_time": "2023-01-16T20:33:23.750921Z",
     "start_time": "2023-01-16T20:33:23.452973Z"
    }
   },
   "outputs": [
    {
     "name": "stdout",
     "output_type": "stream",
     "text": [
      "[0.7130698]\n",
      "80\n",
      "50000000\n"
     ]
    },
    {
     "data": {
      "image/png": "[encoded data removed]",
      "text/plain": [
       "<Figure size 640x480 with 1 Axes>"
      ]
     },
     "metadata": {},
     "output_type": "display_data"
    }
   ],
   "source": [
    "traj_AKE4= md.load('traj_AKE4.xtc',top='pdb_file_4AKE_Calpha.pdb')\n",
    "\n",
    "rmsd = md.rmsd(traj_AKE4, traj_AKE4)\n",
    "rmsd_both= md.rmsd(ca_structure_AKE4, ca_structure_AKE1)\n",
    "print(rmsd_both)\n",
    "plt.plot([STEPSIZE*i for i in range(len(rmsd))],rmsd)\n",
    "plt.xlabel('Simulation time, ns')\n",
    "plt.ylabel('rmsd, nm')\n",
    "print(TEMPERATURE)\n",
    "print(n_steps)"
   ]
  },
  {
   "cell_type": "code",
   "execution_count": 15,
   "metadata": {
    "ExecuteTime": {
     "end_time": "2023-01-16T20:33:23.799946Z",
     "start_time": "2023-01-16T20:33:23.752741Z"
    }
   },
   "outputs": [],
   "source": [
    "# This is a simplified option\n",
    "def get_fraction_native_contacts(traj, native_contacts, cutoff=1.15):\n",
    "    \"\"\"\n",
    "    Calculate fraction of frames in trajectory `traj`, \n",
    "    \"\"\"\n",
    "    distances = md.compute_distances(traj, native_contacts)\n",
    "    contact_formed = np.where(distances < cutoff, 1, 0)\n",
    "    num_of_contacts = np.sum(contact_formed, axis=1)\n",
    "    fraction_of_contacts = num_of_contacts/contact_formed.shape[1]\n",
    "    return(fraction_of_contacts)\n"
   ]
  },
  {
   "cell_type": "code",
   "execution_count": 16,
   "metadata": {
    "ExecuteTime": {
     "end_time": "2023-01-16T20:33:24.188982Z",
     "start_time": "2023-01-16T20:33:23.801717Z"
    }
   },
   "outputs": [
    {
     "data": {
      "text/plain": [
       "Text(0, 0.5, 'Q')"
      ]
     },
     "execution_count": 16,
     "metadata": {},
     "output_type": "execute_result"
    },
    {
     "data": {
      "image/png": "[encoded data removed]",
      "text/plain": [
       "<Figure size 640x480 with 2 Axes>"
      ]
     },
     "metadata": {},
     "output_type": "display_data"
    }
   ],
   "source": [
    "frac_native_4AKE = get_fraction_native_contacts(traj_AKE4, native_contacts_start_4AKE)\n",
    "fig, ax = plt.subplots()\n",
    "counts, xedges, yedges, im = ax.hist2d(rmsd, frac_native_4AKE, bins=100,norm=plt.matplotlib.colors.LogNorm())\n",
    "cb = fig.colorbar(im, ax=ax)\n",
    "cb.set_label('number of frames')\n",
    "\n",
    "plt.xlabel('rmsd, nm')\n",
    "#plt.ylim(0, 1)\n",
    "plt.ylabel('Q')"
   ]
  },
  {
   "cell_type": "markdown",
   "metadata": {},
   "source": []
  },
  {
   "cell_type": "code",
   "execution_count": 17,
   "metadata": {
    "ExecuteTime": {
     "end_time": "2023-01-16T20:33:32.320248Z",
     "start_time": "2023-01-16T20:33:24.190954Z"
    },
    "code_folding": []
   },
   "outputs": [
    {
     "ename": "OSError",
     "evalue": "No such file: 4ake_input_smog.pdb_Calpha.pdb",
     "output_type": "error",
     "traceback": [
      "\u001b[1;31m---------------------------------------------------------------------------\u001b[0m",
      "\u001b[1;31mOSError\u001b[0m                                   Traceback (most recent call last)",
      "Cell \u001b[1;32mIn[17], line 3\u001b[0m\n\u001b[0;32m      1\u001b[0m \u001b[38;5;66;03m# Task 3: Choice of collective coordinates. \u001b[39;00m\n\u001b[0;32m      2\u001b[0m fig, ax \u001b[38;5;241m=\u001b[39m plt\u001b[38;5;241m.\u001b[39msubplots(\u001b[38;5;241m1\u001b[39m,\u001b[38;5;241m2\u001b[39m, figsize\u001b[38;5;241m=\u001b[39m(\u001b[38;5;241m12\u001b[39m,\u001b[38;5;241m6\u001b[39m))\n\u001b[1;32m----> 3\u001b[0m feat \u001b[38;5;241m=\u001b[39m \u001b[43mcoor\u001b[49m\u001b[38;5;241;43m.\u001b[39;49m\u001b[43mfeaturizer\u001b[49m\u001b[43m(\u001b[49m\u001b[38;5;124;43mf\u001b[39;49m\u001b[38;5;124;43m'\u001b[39;49m\u001b[38;5;124;43m4ake_input_smog.pdb_Calpha.pdb\u001b[39;49m\u001b[38;5;124;43m'\u001b[39;49m\u001b[43m)\u001b[49m \u001b[38;5;66;03m# featurizer object\u001b[39;00m\n\u001b[0;32m      4\u001b[0m feat\u001b[38;5;241m.\u001b[39madd_distances_ca() \u001b[38;5;66;03m# use c-alpha distances in TICA\u001b[39;00m\n\u001b[0;32m      5\u001b[0m ticalag_time \u001b[38;5;241m=\u001b[39m \u001b[38;5;241m10\u001b[39m\n",
      "File \u001b[1;32mc:\\Users\\kohle\\miniconda3\\envs\\CMP\\lib\\site-packages\\pyemma\\coordinates\\api.py:142\u001b[0m, in \u001b[0;36mfeaturizer\u001b[1;34m(topfile)\u001b[0m\n\u001b[0;32m    100\u001b[0m \u001b[38;5;250m\u001b[39m\u001b[38;5;124mr\u001b[39m\u001b[38;5;124;03m\"\"\" Featurizer to select features from MD data.\u001b[39;00m\n\u001b[0;32m    101\u001b[0m \n\u001b[0;32m    102\u001b[0m \u001b[38;5;124;03mParameters\u001b[39;00m\n\u001b[1;32m   (...)\u001b[0m\n\u001b[0;32m    139\u001b[0m \u001b[38;5;124;03m        :attributes:\u001b[39;00m\n\u001b[0;32m    140\u001b[0m \u001b[38;5;124;03m\"\"\"\u001b[39;00m\n\u001b[0;32m    141\u001b[0m \u001b[38;5;28;01mfrom\u001b[39;00m \u001b[38;5;21;01mpyemma\u001b[39;00m\u001b[38;5;21;01m.\u001b[39;00m\u001b[38;5;21;01mcoordinates\u001b[39;00m\u001b[38;5;21;01m.\u001b[39;00m\u001b[38;5;21;01mdata\u001b[39;00m\u001b[38;5;21;01m.\u001b[39;00m\u001b[38;5;21;01mfeaturization\u001b[39;00m\u001b[38;5;21;01m.\u001b[39;00m\u001b[38;5;21;01mfeaturizer\u001b[39;00m \u001b[38;5;28;01mimport\u001b[39;00m MDFeaturizer\n\u001b[1;32m--> 142\u001b[0m \u001b[38;5;28;01mreturn\u001b[39;00m \u001b[43mMDFeaturizer\u001b[49m\u001b[43m(\u001b[49m\u001b[43mtopfile\u001b[49m\u001b[43m)\u001b[49m\n",
      "File \u001b[1;32mc:\\Users\\kohle\\miniconda3\\envs\\CMP\\lib\\site-packages\\pyemma\\coordinates\\data\\featurization\\featurizer.py:61\u001b[0m, in \u001b[0;36mMDFeaturizer.__init__\u001b[1;34m(self, topfile, **kwargs)\u001b[0m\n\u001b[0;32m     50\u001b[0m \u001b[38;5;250m\u001b[39m\u001b[38;5;124;03m\"\"\"extracts features from MD trajectories.\u001b[39;00m\n\u001b[0;32m     51\u001b[0m \n\u001b[0;32m     52\u001b[0m \u001b[38;5;124;03mParameters\u001b[39;00m\n\u001b[1;32m   (...)\u001b[0m\n\u001b[0;32m     58\u001b[0m \u001b[38;5;124;03m   Deprecated, topologies are always cached.\u001b[39;00m\n\u001b[0;32m     59\u001b[0m \u001b[38;5;124;03m\"\"\"\u001b[39;00m\n\u001b[0;32m     60\u001b[0m \u001b[38;5;28mself\u001b[39m\u001b[38;5;241m.\u001b[39mtopology \u001b[38;5;241m=\u001b[39m \u001b[38;5;28;01mNone\u001b[39;00m\n\u001b[1;32m---> 61\u001b[0m \u001b[38;5;28mself\u001b[39m\u001b[38;5;241m.\u001b[39mtopologyfile \u001b[38;5;241m=\u001b[39m topfile\n\u001b[0;32m     62\u001b[0m \u001b[38;5;28mself\u001b[39m\u001b[38;5;241m.\u001b[39mactive_features \u001b[38;5;241m=\u001b[39m []\n",
      "File \u001b[1;32mc:\\Users\\kohle\\miniconda3\\envs\\CMP\\lib\\site-packages\\pyemma\\coordinates\\data\\featurization\\featurizer.py:72\u001b[0m, in \u001b[0;36mMDFeaturizer.topologyfile\u001b[1;34m(self, topfile)\u001b[0m\n\u001b[0;32m     70\u001b[0m \u001b[38;5;28mself\u001b[39m\u001b[38;5;241m.\u001b[39m_topologyfile \u001b[38;5;241m=\u001b[39m topfile\n\u001b[0;32m     71\u001b[0m \u001b[38;5;28;01mif\u001b[39;00m \u001b[38;5;28misinstance\u001b[39m(topfile, \u001b[38;5;28mstr\u001b[39m):\n\u001b[1;32m---> 72\u001b[0m     \u001b[38;5;28mself\u001b[39m\u001b[38;5;241m.\u001b[39mtopology \u001b[38;5;241m=\u001b[39m \u001b[43mload_topology_cached\u001b[49m\u001b[43m(\u001b[49m\u001b[43mtopfile\u001b[49m\u001b[43m)\u001b[49m\n\u001b[0;32m     73\u001b[0m     \u001b[38;5;28mself\u001b[39m\u001b[38;5;241m.\u001b[39m_topologyfile \u001b[38;5;241m=\u001b[39m topfile\n\u001b[0;32m     74\u001b[0m \u001b[38;5;28;01melif\u001b[39;00m \u001b[38;5;28misinstance\u001b[39m(topfile, mdtraj\u001b[38;5;241m.\u001b[39mTopology):\n",
      "File \u001b[1;32mc:\\Users\\kohle\\miniconda3\\envs\\CMP\\lib\\site-packages\\pyemma\\coordinates\\util\\patches.py:47\u001b[0m, in \u001b[0;36mload_topology_cached\u001b[1;34m(top_file)\u001b[0m\n\u001b[0;32m     45\u001b[0m \u001b[38;5;28;01mdef\u001b[39;00m \u001b[38;5;21mload_topology_cached\u001b[39m(top_file):\n\u001b[0;32m     46\u001b[0m     \u001b[38;5;28;01mif\u001b[39;00m \u001b[38;5;28misinstance\u001b[39m(top_file, \u001b[38;5;28mstr\u001b[39m):\n\u001b[1;32m---> 47\u001b[0m         \u001b[38;5;28;01mreturn\u001b[39;00m \u001b[43m_load\u001b[49m\u001b[43m(\u001b[49m\u001b[43mtop_file\u001b[49m\u001b[43m)\u001b[49m\n\u001b[0;32m     48\u001b[0m     \u001b[38;5;28;01mif\u001b[39;00m \u001b[38;5;28misinstance\u001b[39m(top_file, Topology):\n\u001b[0;32m     49\u001b[0m         \u001b[38;5;28;01mreturn\u001b[39;00m top_file\n",
      "File \u001b[1;32mc:\\Users\\kohle\\miniconda3\\envs\\CMP\\lib\\site-packages\\pyemma\\coordinates\\util\\patches.py:42\u001b[0m, in \u001b[0;36m_load\u001b[1;34m(top_file)\u001b[0m\n\u001b[0;32m     40\u001b[0m \u001b[38;5;129m@lru_cache\u001b[39m(maxsize\u001b[38;5;241m=\u001b[39m\u001b[38;5;241m32\u001b[39m)\n\u001b[0;32m     41\u001b[0m \u001b[38;5;28;01mdef\u001b[39;00m \u001b[38;5;21m_load\u001b[39m(top_file):\n\u001b[1;32m---> 42\u001b[0m     \u001b[38;5;28;01mreturn\u001b[39;00m \u001b[43mload_topology\u001b[49m\u001b[43m(\u001b[49m\u001b[43mtop_file\u001b[49m\u001b[43m)\u001b[49m\n",
      "File \u001b[1;32mc:\\Users\\kohle\\miniconda3\\envs\\CMP\\lib\\site-packages\\mdtraj\\core\\trajectory.py:151\u001b[0m, in \u001b[0;36mload_topology\u001b[1;34m(filename, **kwargs)\u001b[0m\n\u001b[0;32m    137\u001b[0m \u001b[38;5;28;01mdef\u001b[39;00m \u001b[38;5;21mload_topology\u001b[39m(filename, \u001b[38;5;241m*\u001b[39m\u001b[38;5;241m*\u001b[39mkwargs):\n\u001b[0;32m    138\u001b[0m \u001b[38;5;250m    \u001b[39m\u001b[38;5;124;03m\"\"\"Load a topology\u001b[39;00m\n\u001b[0;32m    139\u001b[0m \n\u001b[0;32m    140\u001b[0m \u001b[38;5;124;03m    Parameters\u001b[39;00m\n\u001b[1;32m   (...)\u001b[0m\n\u001b[0;32m    149\u001b[0m \u001b[38;5;124;03m    topology : md.Topology\u001b[39;00m\n\u001b[0;32m    150\u001b[0m \u001b[38;5;124;03m    \"\"\"\u001b[39;00m\n\u001b[1;32m--> 151\u001b[0m     \u001b[38;5;28;01mreturn\u001b[39;00m \u001b[43m_parse_topology\u001b[49m\u001b[43m(\u001b[49m\u001b[43mfilename\u001b[49m\u001b[43m,\u001b[49m\u001b[43m \u001b[49m\u001b[38;5;241;43m*\u001b[39;49m\u001b[38;5;241;43m*\u001b[39;49m\u001b[43mkwargs\u001b[49m\u001b[43m)\u001b[49m\n",
      "File \u001b[1;32mc:\\Users\\kohle\\miniconda3\\envs\\CMP\\lib\\site-packages\\mdtraj\\core\\trajectory.py:174\u001b[0m, in \u001b[0;36m_parse_topology\u001b[1;34m(top, **kwargs)\u001b[0m\n\u001b[0;32m    172\u001b[0m     topology \u001b[38;5;241m=\u001b[39m top\u001b[38;5;241m.\u001b[39mtopology\n\u001b[0;32m    173\u001b[0m \u001b[38;5;28;01melif\u001b[39;00m \u001b[38;5;28misinstance\u001b[39m(top, (string_types, os\u001b[38;5;241m.\u001b[39mPathLike)) \u001b[38;5;129;01mand\u001b[39;00m (ext \u001b[38;5;129;01min\u001b[39;00m [\u001b[38;5;124m'\u001b[39m\u001b[38;5;124m.pdb\u001b[39m\u001b[38;5;124m'\u001b[39m, \u001b[38;5;124m'\u001b[39m\u001b[38;5;124m.pdb.gz\u001b[39m\u001b[38;5;124m'\u001b[39m, \u001b[38;5;124m'\u001b[39m\u001b[38;5;124m.pdbx\u001b[39m\u001b[38;5;124m'\u001b[39m, \u001b[38;5;124m'\u001b[39m\u001b[38;5;124m.cif\u001b[39m\u001b[38;5;124m'\u001b[39m, \u001b[38;5;124m'\u001b[39m\u001b[38;5;124m.h5\u001b[39m\u001b[38;5;124m'\u001b[39m,\u001b[38;5;124m'\u001b[39m\u001b[38;5;124m.lh5\u001b[39m\u001b[38;5;124m'\u001b[39m]):\n\u001b[1;32m--> 174\u001b[0m     _traj \u001b[38;5;241m=\u001b[39m \u001b[43mload_frame\u001b[49m\u001b[43m(\u001b[49m\u001b[43mtop\u001b[49m\u001b[43m,\u001b[49m\u001b[43m \u001b[49m\u001b[38;5;241;43m0\u001b[39;49m\u001b[43m,\u001b[49m\u001b[43m \u001b[49m\u001b[38;5;241;43m*\u001b[39;49m\u001b[38;5;241;43m*\u001b[39;49m\u001b[43mkwargs\u001b[49m\u001b[43m)\u001b[49m\n\u001b[0;32m    175\u001b[0m     topology \u001b[38;5;241m=\u001b[39m _traj\u001b[38;5;241m.\u001b[39mtopology\n\u001b[0;32m    176\u001b[0m \u001b[38;5;28;01melif\u001b[39;00m \u001b[38;5;28misinstance\u001b[39m(top, (string_types, os\u001b[38;5;241m.\u001b[39mPathLike)) \u001b[38;5;129;01mand\u001b[39;00m (ext \u001b[38;5;129;01min\u001b[39;00m [\u001b[38;5;124m'\u001b[39m\u001b[38;5;124m.prmtop\u001b[39m\u001b[38;5;124m'\u001b[39m, \u001b[38;5;124m'\u001b[39m\u001b[38;5;124m.parm7\u001b[39m\u001b[38;5;124m'\u001b[39m, \u001b[38;5;124m'\u001b[39m\u001b[38;5;124m.prm7\u001b[39m\u001b[38;5;124m'\u001b[39m]):\n",
      "File \u001b[1;32mc:\\Users\\kohle\\miniconda3\\envs\\CMP\\lib\\site-packages\\mdtraj\\core\\trajectory.py:310\u001b[0m, in \u001b[0;36mload_frame\u001b[1;34m(filename, index, top, atom_indices, **kwargs)\u001b[0m\n\u001b[0;32m    307\u001b[0m     kwargs[\u001b[38;5;124m'\u001b[39m\u001b[38;5;124mtop\u001b[39m\u001b[38;5;124m'\u001b[39m] \u001b[38;5;241m=\u001b[39m top\n\u001b[0;32m    309\u001b[0m \u001b[38;5;28;01mif\u001b[39;00m loader\u001b[38;5;241m.\u001b[39m\u001b[38;5;18m__name__\u001b[39m \u001b[38;5;129;01mnot\u001b[39;00m \u001b[38;5;129;01min\u001b[39;00m [\u001b[38;5;124m'\u001b[39m\u001b[38;5;124mload_dtr\u001b[39m\u001b[38;5;124m'\u001b[39m]:\n\u001b[1;32m--> 310\u001b[0m     \u001b[43m_assert_files_exist\u001b[49m\u001b[43m(\u001b[49m\u001b[43mfilename\u001b[49m\u001b[43m)\u001b[49m\n\u001b[0;32m    311\u001b[0m \u001b[38;5;28;01melse\u001b[39;00m:\n\u001b[0;32m    312\u001b[0m     _assert_files_or_dirs_exist(filename)\n",
      "File \u001b[1;32mc:\\Users\\kohle\\miniconda3\\envs\\CMP\\lib\\site-packages\\mdtraj\\core\\trajectory.py:100\u001b[0m, in \u001b[0;36m_assert_files_exist\u001b[1;34m(filenames)\u001b[0m\n\u001b[0;32m     98\u001b[0m \u001b[38;5;28;01mfor\u001b[39;00m fn \u001b[38;5;129;01min\u001b[39;00m filenames:\n\u001b[0;32m     99\u001b[0m     \u001b[38;5;28;01mif\u001b[39;00m \u001b[38;5;129;01mnot\u001b[39;00m (os\u001b[38;5;241m.\u001b[39mpath\u001b[38;5;241m.\u001b[39mexists(fn) \u001b[38;5;129;01mand\u001b[39;00m os\u001b[38;5;241m.\u001b[39mpath\u001b[38;5;241m.\u001b[39misfile(fn)):\n\u001b[1;32m--> 100\u001b[0m         \u001b[38;5;28;01mraise\u001b[39;00m \u001b[38;5;167;01mIOError\u001b[39;00m(\u001b[38;5;124m'\u001b[39m\u001b[38;5;124mNo such file: \u001b[39m\u001b[38;5;132;01m%s\u001b[39;00m\u001b[38;5;124m'\u001b[39m \u001b[38;5;241m%\u001b[39m fn)\n",
      "\u001b[1;31mOSError\u001b[0m: No such file: 4ake_input_smog.pdb_Calpha.pdb"
     ]
    },
    {
     "data": {
      "image/png": "[encoded data removed]",
      "text/plain": [
       "<Figure size 1200x600 with 2 Axes>"
      ]
     },
     "metadata": {},
     "output_type": "display_data"
    }
   ],
   "source": [
    "# Task 3: Choice of collective coordinates. \n",
    "fig, ax = plt.subplots(1,2, figsize=(12,6))\n",
    "feat = coor.featurizer(f'4ake_input_smog.pdb_Calpha.pdb') # featurizer object\n",
    "feat.add_distances_ca() # use c-alpha distances in TICA\n",
    "ticalag_time = 10\n",
    "inp = coor.source('traj_AKE4.xtc', feat, chunksize=1000) # create an input object with pyemma to stream the data\n",
    "tica_obj = coor.tica(inp, lag=ticalag_time)\n",
    "Y = tica_obj.get_output() # the tica coordinates for each conformation\n",
    "pyemma.plots.plot_density(*np.concatenate(Y)[:,:2].T, logscale=True, ax=ax[0])\n",
    "pyemma.plots.plot_free_energy(*np.concatenate(Y)[:,:2].T, logscale=True, ax=ax[1])\n",
    "ax[0].set_title(\"Probabilit density\")\n",
    "ax[1].set_title(\"Free energy landscape\")\n",
    "plt.xlabel('IC1')\n",
    "plt.ylabel('IC2')\n",
    "plt.tight_layout()"
   ]
  },
  {
   "cell_type": "code",
   "execution_count": null,
   "metadata": {},
   "outputs": [],
   "source": []
  },
  {
   "cell_type": "code",
   "execution_count": null,
   "metadata": {},
   "outputs": [],
   "source": []
  },
  {
   "cell_type": "code",
   "execution_count": null,
   "metadata": {},
   "outputs": [],
   "source": []
  }
 ],
 "metadata": {
  "kernelspec": {
   "display_name": "Python 3 (ipykernel)",
   "language": "python",
   "name": "python3"
  },
  "language_info": {
   "codemirror_mode": {
    "name": "ipython",
    "version": 3
   },
   "file_extension": ".py",
   "mimetype": "text/x-python",
   "name": "python",
   "nbconvert_exporter": "python",
   "pygments_lexer": "ipython3",
   "version": "3.8.18"
  },
  "toc": {
   "base_numbering": 1,
   "nav_menu": {},
   "number_sections": true,
   "sideBar": true,
   "skip_h1_title": false,
   "title_cell": "Table of Contents",
   "title_sidebar": "Contents",
   "toc_cell": false,
   "toc_position": {},
   "toc_section_display": true,
   "toc_window_display": false
  }
 },
 "nbformat": 4,
 "nbformat_minor": 2
}
